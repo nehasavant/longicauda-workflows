{
 "cells": [
  {
   "cell_type": "markdown",
   "metadata": {},
   "source": [
    "# DAPC Analyses in R for *Eurycea longicauda* samples   \n",
    "### By: Neha Savant"
   ]
  },
  {
   "cell_type": "markdown",
   "metadata": {},
   "source": [
    "### Introduction to the dataset"
   ]
  },
  {
   "cell_type": "markdown",
   "metadata": {},
   "source": [
    "A Discriminant Analysis of Principal Componenets (DAPC) is a useful exploratory method in population genomic analyses that allows you to easily visualize the genetic clustering within your data. "
   ]
  },
  {
   "cell_type": "markdown",
   "metadata": {},
   "source": [
    "The genomic data used in this notebook was produced using ddRADseq and consists of 255 Long-tail salamander (*Eurycea longicauda*) individuals collected across northern New Jersey in 2017. The data is separated into three different scales and will be analyzed as such: \n",
    "1. Across regions (all individuals collected in NJ) \n",
    "2. Within regions (Piedmont and Ridge & Valley individuals)\n",
    "3. Within habitat (Within a stream and Within a pond complex)"
   ]
  },
  {
   "cell_type": "code",
   "execution_count": null,
   "metadata": {},
   "outputs": [],
   "source": []
  }
 ],
 "metadata": {
  "kernelspec": {
   "display_name": "R",
   "language": "R",
   "name": "ir"
  },
  "language_info": {
   "codemirror_mode": "r",
   "file_extension": ".r",
   "mimetype": "text/x-r-source",
   "name": "R",
   "pygments_lexer": "r",
   "version": "3.4.2"
  }
 },
 "nbformat": 4,
 "nbformat_minor": 2
}
