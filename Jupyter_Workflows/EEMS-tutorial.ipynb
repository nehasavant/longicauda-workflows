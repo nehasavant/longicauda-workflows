{
 "cells": [
  {
   "cell_type": "markdown",
   "metadata": {},
   "source": [
    "# EEMS tutorial with *Eurycea longicauda* ddRAD data\n",
    "## Required inputs\n",
    "EEMS is an R package that will help visualize genetic barriers and genetic connectivity across a landscape. The program requires three input data files with the same name but different extensions: \n",
    "1. A genetic dissimilarity matrix\n",
    "2. A csv of sampling coordinates \n",
    "3. A csv of habitat verticies that outline the extent of the habitat you'd like to model. This should be a list of coordinates with the first and last being the same value to create one completely closed polygon. "
   ]
  },
  {
   "cell_type": "markdown",
   "metadata": {},
   "source": [
    "### 1. Creating the genetic dissimilarity matrix\n",
    "The creators of EEMS suggest using the small package [bed2diffs](https://github.com/dipetkov/eems/tree/master/bed2diffs) they created for this purpose. The package uses the [libplinkio](https://github.com/mfranberg/libplinkio) library to take a plink binary file that is created as an ouput from your preferred genomic filtering program (i.e. ipyrad, Stacks, etc) and compute the average dissimilarity matrix. "
   ]
  },
  {
   "cell_type": "code",
   "execution_count": null,
   "metadata": {},
   "outputs": [],
   "source": [
    "library(eems)"
   ]
  },
  {
   "cell_type": "markdown",
   "metadata": {},
   "source": [
    "### 2. Creating a csv of sampling coordinates\n",
    "The easiest way is to create this in Microsoft Excel. This list of sampling coordinates should be in the same order as the the rows of samples in the dissimiliary matrix you input and you should have two coordinates per line: latitude and longitude. \n",
    "\n",
    "### 3. Creating a csv of habitat verticies\n",
    "Again, the easiest way is to create this in Mircosoft Excel. The first coordinate should be the northwest most coordinate and the order should follow *counterclockwise* from the starting point. Then, remember, the last coordinate should be exactly the same as the first coordinate so the outline is a closed ring. If you need some assistance creating these coordinates, here is a [Google Maps API tool](http://www.birdtheme.org/useful/v3tool.html) that is helpful.  Select the \"Polygon\" option from the dropdown menu at the top, find your study area and click around the map to create your vertices. Remember to close the polygon, and then look at the code created for the coordinates. Copy and paste these into an Excel sheet and save as a csv.\n"
   ]
  }
 ],
 "metadata": {
  "kernelspec": {
   "display_name": "R",
   "language": "R",
   "name": "ir"
  },
  "language_info": {
   "codemirror_mode": "r",
   "file_extension": ".r",
   "mimetype": "text/x-r-source",
   "name": "R",
   "pygments_lexer": "r",
   "version": "3.4.2"
  }
 },
 "nbformat": 4,
 "nbformat_minor": 2
}
