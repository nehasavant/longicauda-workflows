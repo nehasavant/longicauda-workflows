{
 "cells": [
  {
   "cell_type": "markdown",
   "metadata": {},
   "source": [
    "# AMOVA (Hierarchical Fst) for *E. longicauda* SNP dataset\n",
    "### By: Neha Savant\n",
    "\n",
    "AMOVA stands for Analysis of MOlecular VAriance and is a method to detect population differentiation using molecular markers (Excoffier, Smouse & Quattro, 1992). The implementation of AMOVA in poppr requires two very basic components: (1) A distance matrix derived from the coordinates of the samples and (2) a separate table used to partition the data into different stratifications. Later in this tutorial I will be using parts of the tutorial laid out by Justin Bagley on his [website](http://www.justinbagley.org/3007/running-amova-analysis-molecular-variance-biallelic-snp-data-r). "
   ]
  },
  {
   "cell_type": "markdown",
   "metadata": {},
   "source": [
    "## Creating a Distance Matrix\n",
    "A distance matrix is comprised of distance measures for each pair of coordinates in a data set. We will be using Euclidean distance to start, which is just the straightline geographic distance between points. To create a distance matrix in R, I will be using the `dist()` function in the `stats` package. \n",
    "\n",
    "### Designing your distance matrix\n",
    "Genetic data can be collected through many different sampling designs: clustered, scattered, a combination of both. And how you sample can determine how you create your distance matrix. I have a GPS point for every salamander caught, with individuals found within a meter of each other having the same GPS point. I am choosing to use all the GPS points. In the future, to do more population level analyses, I may find the midpoint of all the coordinates for one creek or pond and use those to create my distance matrix. \n",
    "\n",
    "I created a .csv file three columns (with a header row): sample_name, lat, long. "
   ]
  },
  {
   "cell_type": "code",
   "execution_count": 18,
   "metadata": {},
   "outputs": [
    {
     "data": {
      "text/html": [],
      "text/latex": [],
      "text/markdown": [],
      "text/plain": [
       "character(0)"
      ]
     },
     "metadata": {},
     "output_type": "display_data"
    }
   ],
   "source": [
    "#cd into your working directory using this trick. It *somehow* allows you to use bash commands in an R jupyter notebook.\n",
    "#see: https://stackoverflow.com/questions/35298513/using-ipython-magics-in-r-jupyter-notebook\n",
    "system(\"cd /Users/nehasavant/Dropbox/Columbia_New_York/Salamanders/Downstream_Analyses\", intern=TRUE)"
   ]
  },
  {
   "cell_type": "code",
   "execution_count": 19,
   "metadata": {},
   "outputs": [],
   "source": [
    "#import .csv file\n",
    "coord <- read.csv(file=\"coord.csv\", header=T, sep=',')"
   ]
  },
  {
   "cell_type": "markdown",
   "metadata": {},
   "source": [
    "Unfortunately, as of Jun 2018, you cannot use the `View()` command in R Jupyter Notebooks...so we will proceed without checking what the df looks like.\n",
    "\n",
    "But now we create the distance matrix using `dist()` from the `stats` package! We use the `as.matrix()` function in order to transform the dist object into a exportable format. "
   ]
  },
  {
   "cell_type": "code",
   "execution_count": 20,
   "metadata": {},
   "outputs": [
    {
     "name": "stderr",
     "output_type": "stream",
     "text": [
      "Warning message in dist(coord, method = \"euclidean\"):\n",
      "“NAs introduced by coercion”"
     ]
    }
   ],
   "source": [
    "dist_matrix <- as.matrix(dist(coord, method=\"euclidean\"))"
   ]
  },
  {
   "cell_type": "code",
   "execution_count": 21,
   "metadata": {},
   "outputs": [],
   "source": [
    "write.csv(dist_matrix, file = \"dist_matrix.csv\")"
   ]
  },
  {
   "cell_type": "markdown",
   "metadata": {},
   "source": [
    "## Preparing the genomic SNP data\n",
    "\n",
    "We need to have 1) the genomic data in a genind format and 2) a hierarchy file. The hierarchy file is a fiel that specifies the sample name, the population number and factor/group number. So for example, my salamanders all have four identifiers: 1) their individual names, 2) their physiographic province, either RidgeValley (RV) or Piedmont (P), 3) their creek or pond name. "
   ]
  },
  {
   "cell_type": "markdown",
   "metadata": {},
   "source": [
    "### Running the AMOVA\n",
    "\n"
   ]
  },
  {
   "cell_type": "code",
   "execution_count": 17,
   "metadata": {},
   "outputs": [],
   "source": [
    "library(\"adegenet\")\n",
    "library(\"poppr\")\n",
    "library(\"ape\")"
   ]
  },
  {
   "cell_type": "markdown",
   "metadata": {},
   "source": [
    "Then we read do the four following steps: \n",
    "1. Read in the data as a genind object\n",
    "2. Convert the data frame from a genind object to a genclone object using the \"as.genclone\" function of poppr\n",
    "3. Read in a hierarchy file\n",
    "4. Recreate the genclone object after specifying the hierarchy to the genind object as the strata"
   ]
  }
 ],
 "metadata": {
  "kernelspec": {
   "display_name": "R",
   "language": "R",
   "name": "ir"
  },
  "language_info": {
   "codemirror_mode": "r",
   "file_extension": ".r",
   "mimetype": "text/x-r-source",
   "name": "R",
   "pygments_lexer": "r",
   "version": "3.4.2"
  }
 },
 "nbformat": 4,
 "nbformat_minor": 2
}
