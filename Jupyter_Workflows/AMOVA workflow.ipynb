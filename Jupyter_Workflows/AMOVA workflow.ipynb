{
 "cells": [
  {
   "cell_type": "markdown",
   "metadata": {},
   "source": [
    "# Hierarchical Fst tests (=AMOVA for SNP dataset)\n",
    "\n",
    "AMOVA stands for Analysis of MOlecular VAriance and is a method to detect population differentiation using molecular markers (Excoffier, Smouse & Quattro, 1992). The implementation of AMOVA in poppr requires two very basic components: (1) A distance matrix derived from the coordinates of the samples and (2) a separate table used to partition the data into different stratifications."
   ]
  },
  {
   "cell_type": "markdown",
   "metadata": {},
   "source": [
    "## Creating a Distance Matrix\n",
    "A distance matrix is comprised of distance measures for each pair of coordinates in a data set. We will be using Euclidean distance to start, which is just the straightline geographic distance between points. To create a distance matrix in R, I will be using the `dist()` function in the `stats` package. \n",
    "\n",
    "### How to design your distance matrix\n",
    "Genetic data can be collected in "
   ]
  },
  {
   "cell_type": "code",
   "execution_count": null,
   "metadata": {},
   "outputs": [],
   "source": []
  }
 ],
 "metadata": {
  "kernelspec": {
   "display_name": "R",
   "language": "R",
   "name": "ir"
  },
  "language_info": {
   "codemirror_mode": "r",
   "file_extension": ".r",
   "mimetype": "text/x-r-source",
   "name": "R",
   "pygments_lexer": "r",
   "version": "3.4.2"
  }
 },
 "nbformat": 4,
 "nbformat_minor": 2
}
